{
  "cells": [
    {
      "metadata": {
        "_cell_guid": "eca36866-3392-4d65-8838-387bccc1d4bc",
        "_uuid": "240798b836ff68cbf5da2bed817ed6da9049be40"
      },
      "cell_type": "markdown",
      "source": "# Network Analysis: Important stations of public transportation \n\n**What?** <br>\nIn this kernel, we will find out which stations could turn out to be some kind of \"bootlenecks\". Think of ticket terminal breakdowns, overcrowded escalators or train cancellation at a station. Knowing the bottlenecks of a subway or any other transportation network could help to better maintain frequently travelled stations by knowing at which edge a failure would harm most.  <p>\n\n**Graph-theory** <br>\nThe graph-theoretical concept beyond this considerations is called \"betweenness centrality\". It is the ratio between the \"number of shortest paths trough a node\" and \"all possible shortest paths\" in a graph. <p>\n\n**Interpretation of betweenness centrality** <br>\nThe measure captures the attractiveness of travel paths between each pair of nodes within a network. It reveals frequently travelled hubs by telling us to what extent a station is part of central interesections.  The higher the betweenness centrality of a node, the more of a \"bootleneck\" this station is, since many attractive travel opportunities are leading trough this node.  <p>"
    },
    {
      "metadata": {
        "_cell_guid": "736a4703-5046-4038-8a4c-f405806e1c6c",
        "_uuid": "4f86e0c92218d2560ffa5054599b5976779492d3"
      },
      "cell_type": "markdown",
      "source": "### 1. Import packages, load and prepare data"
    },
    {
      "metadata": {
        "collapsed": true,
        "_cell_guid": "b1076dfc-b9ad-4769-8c92-a6c4dae69d19",
        "_uuid": "8f2839f25d086af736a60e9eeb907d3b93b6e0e5",
        "trusted": false
      },
      "cell_type": "code",
      "source": "#import relevant packages\nimport matplotlib.pyplot as plt\nimport numpy as np \nimport networkx as nx #package for creating, manipulating, and studying networks\nimport pandas as pd ",
      "execution_count": null,
      "outputs": []
    },
    {
      "metadata": {
        "_cell_guid": "79c7e3d0-c299-4dcb-8224-4455121ee9b0",
        "_uuid": "d629ff2d2480ee46fbb7e2d37f6b5fab8052498a",
        "trusted": false,
        "collapsed": true
      },
      "cell_type": "code",
      "source": "#load data\nstations = pd.read_csv('../input/Vienna subway.csv', sep=\";\")\nprint(stations.sample(5))\nprint(\"The dataset contains\", stations.shape[0], \"rows and\", stations.shape[1], \"columns.\")\n\n#define nodes of bikesharing network\nnetwork = nx.from_pandas_edgelist(stations, 'Start', 'Stop')\n\n#get amount of stations and paths\nprint('The subway in vienna consists of', len(network.nodes), 'different stations (nodes) and', \n      len(network.edges), 'connections (edges) between the stations.')",
      "execution_count": null,
      "outputs": []
    },
    {
      "metadata": {
        "_cell_guid": "83d96ce6-c222-4ae2-9d71-6ab594606947",
        "_uuid": "192ab7261563a0a8af2484e9fed888bd80c1a88a"
      },
      "cell_type": "markdown",
      "source": "### 2. Find out top 5 possible bottlenecks "
    },
    {
      "metadata": {
        "_cell_guid": "a7989a7e-fb7b-4f37-9b1c-581c52a8b906",
        "_uuid": "d8b7af5c9532e5e8b47b98f8dd01885ff4598062",
        "trusted": false,
        "collapsed": true
      },
      "cell_type": "code",
      "source": "#compute betweenness centrality of stations\nbw_centrality = nx.betweenness_centrality(network)\n\n#convert items of bw_ccentrality dictionary into dataframe\nbw_centrality = pd.DataFrame(list(bw_centrality.items()))\n\n#rename columns of data frame\nbw_centrality.columns = [\"station\", \"betweenness_centrality\"]\n\n#show head rows of data frame\nbw_centrality.head()\n\n#get top 5 bottleneck stations\nbw_centrality.sort_values(by=\"betweenness_centrality\", ascending=False).iloc[:5,:]",
      "execution_count": null,
      "outputs": []
    },
        {
      "metadata": {
        "_cell_guid": "83d96ce6-c222-4ae2-9d71-6ab594606947",
        "_uuid": "192ab7261563a0a8af2484e9fed888bd80c1a88a"
      },
      "cell_type": "markdown",
      "source": "### 3. Degree centrality "
    },
        {
      "metadata": {
        "_cell_guid": "e5968989-d357-4e8e-9e6f-1e5d9568fda6",
        "_uuid": "673edaccdc63eb49be17bc9ba3f15bb0abd54d99"
      },
      "cell_type": "markdown",
      "source": "### 4. Visualization"
    },
        {
      "metadata": {
        "_cell_guid": "79c7e3d0-c299-4dcb-8224-4455121ee9b0",
        "_uuid": "d629ff2d2480ee46fbb7e2d37f6b5fab8052498a",
        "trusted": false,
        "collapsed": true
      },
      "cell_type": "code",
      "source": "#matrixplot \n nx.MatrixPlot(graph=network)
      "execution_count": null,
      "outputs": []
    },
    {
      "metadata": {
        "_cell_guid": "e5968989-d357-4e8e-9e6f-1e5d9568fda6",
        "_uuid": "673edaccdc63eb49be17bc9ba3f15bb0abd54d99"
      },
      "cell_type": "markdown",
      "source": "### 5. Plausibility check and intepretation"
    },
    {
      "metadata": {
        "_cell_guid": "d9bb9263-9686-466b-a4ff-54c785eba363",
        "_uuid": "8608f054db6d4ab557ebe15ad73ce947f9458cc9"
      },
      "cell_type": "markdown",
      "source": "Go and assess yourself whether Karlsplatz, Schwedenplatz, Praterstern, Stephansplatz and Laengenfeldgasse should be considered as a bottleneck of subway transportation in vienna and expecially taken care of!\n![](http://homepage.univie.ac.at/horst.prillinger/ubahn/m/largemap.png)\n"
    }
  ],
  "metadata": {
    "language_info": {
      "file_extension": ".py",
      "codemirror_mode": {
        "version": 3,
        "name": "ipython"
      },
      "nbconvert_exporter": "python",
      "name": "python",
      "pygments_lexer": "ipython3",
      "version": "3.6.4",
      "mimetype": "text/x-python"
    },
    "kernelspec": {
      "display_name": "Python 3",
      "language": "python",
      "name": "python3"
    }
  },
  "nbformat": 4,
  "nbformat_minor": 1
}
